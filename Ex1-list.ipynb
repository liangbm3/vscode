{
 "cells": [
  {
   "cell_type": "code",
   "execution_count": 32,
   "id": "a660a4a4-86dc-4219-8932-87623ee852bf",
   "metadata": {},
   "outputs": [],
   "source": [
    "# 代码填空 insert/remove\n",
    "class MyList:\n",
    "    \"\"\"列表类\"\"\"\n",
    "    def __init__(self):\n",
    "        \"\"\"构造方法\"\"\"\n",
    "        self._capacity = 10  # 列表容量\n",
    "        self._arr = [0] * self._capacity  # 数组（存储列表元素）\n",
    "        self._size = 0  # 列表长度（当前元素数量）\n",
    "        self._extend_ratio = 2  # 每次列表扩容的倍数\n",
    "\n",
    "    def size(self):\n",
    "        \"\"\"获取列表长度（当前元素数量）\"\"\"\n",
    "        return self._size\n",
    "\n",
    "    def capacity(self):\n",
    "        \"\"\"获取列表容量\"\"\"\n",
    "        return self._capacity\n",
    "\n",
    "    def get(self, index):\n",
    "        \"\"\"访问元素\"\"\"\n",
    "        # 索引如果越界，则抛出异常，下同\n",
    "        if index < 0 or index >= self._size:\n",
    "            raise IndexError(\"索引越界\")\n",
    "        return self._arr[index]\n",
    "\n",
    "    def set(self, num, index):\n",
    "        \"\"\"更新元素\"\"\"\n",
    "        if index < 0 or index >= self._size:\n",
    "            raise IndexError(\"索引越界\")\n",
    "        self._arr[index] = num\n",
    "\n",
    "    def add(self, num):\n",
    "        \"\"\"在尾部添加元素\"\"\"\n",
    "        # 元素数量超出容量时，触发扩容机制\n",
    "        if self.size() == self.capacity():\n",
    "            self.extend_capacity()\n",
    "        self._arr[self._size] = num\n",
    "        self._size += 1\n",
    "\n",
    "    def insert(self, num, index):\n",
    "        \"\"\"在中间插入元素\"\"\"\n",
    "        if index < 0 or index >= self._size:\n",
    "            raise IndexError(\"索引越界\")\n",
    "        # 元素数量超出容量时，触发扩容机制\n",
    "        if self._size == self.capacity():\n",
    "            self.extend_capacity()\n",
    "        # 将索引 index 以及之后的元素都向后移动一位\n",
    "        for  i in range(self._size,index,-1):\n",
    "            self._arr[i]=self._arr[i-1]\n",
    "        self._arr[index] = num\n",
    "        # 更新元素数量\n",
    "        self._size += 1\n",
    "\n",
    "    def remove(self, index):\n",
    "        \"\"\"删除元素\"\"\"\n",
    "        if index < 0 or index >= self._size:\n",
    "            raise IndexError(\"索引越界\")\n",
    "        num = self._arr[index]\n",
    "        # 将索引 index 之后的元素都向前移动一位\n",
    "        for i in range(index,self._size,1):\n",
    "            self._arr[i]=self._arr[i+1]\n",
    "        # 更新元素数量\n",
    "        self._size -= 1\n",
    "        # 返回被删除的元素\n",
    "        return num\n",
    "\n",
    "    def extend_capacity(self):\n",
    "        \"\"\"列表扩容\"\"\"\n",
    "        # 新建一个长度为原数组 _extend_ratio 倍的新数组，并将原数组复制到新数组\n",
    "        self._arr = self._arr + [0] * self.capacity() * (self._extend_ratio - 1)\n",
    "        # 更新列表容量\n",
    "        self._capacity = len(self._arr)\n"
   ]
  },
  {
   "cell_type": "code",
   "execution_count": 33,
   "id": "2768eef4-5d2e-44d9-9c1f-d73298a2574c",
   "metadata": {},
   "outputs": [],
   "source": [
    "li=MyList()"
   ]
  },
  {
   "cell_type": "code",
   "execution_count": 34,
   "id": "cb3994b1-9e66-42c4-9615-daaadd1305ac",
   "metadata": {},
   "outputs": [],
   "source": [
    "for i in range(0,10):\n",
    "    li.add(i)"
   ]
  },
  {
   "cell_type": "code",
   "execution_count": 35,
   "id": "a8a8cf07-a10b-41bb-ad20-3b6b825dc134",
   "metadata": {},
   "outputs": [
    {
     "data": {
      "text/plain": [
       "10"
      ]
     },
     "execution_count": 35,
     "metadata": {},
     "output_type": "execute_result"
    }
   ],
   "source": [
    "li.size()"
   ]
  },
  {
   "cell_type": "code",
   "execution_count": 36,
   "id": "41824a95-f973-451e-9c23-40ea7d697afb",
   "metadata": {},
   "outputs": [
    {
     "data": {
      "text/plain": [
       "10"
      ]
     },
     "execution_count": 36,
     "metadata": {},
     "output_type": "execute_result"
    }
   ],
   "source": [
    "li.capacity()"
   ]
  },
  {
   "cell_type": "code",
   "execution_count": 37,
   "id": "4ef95869-310e-4d74-944a-123009ddc78b",
   "metadata": {},
   "outputs": [],
   "source": [
    "li.add(100)"
   ]
  },
  {
   "cell_type": "code",
   "execution_count": 38,
   "id": "041c4a85-a38f-423b-ad5f-3bcacbe1c7ad",
   "metadata": {},
   "outputs": [
    {
     "data": {
      "text/plain": [
       "20"
      ]
     },
     "execution_count": 38,
     "metadata": {},
     "output_type": "execute_result"
    }
   ],
   "source": [
    "li.capacity()"
   ]
  },
  {
   "cell_type": "code",
   "execution_count": 39,
   "id": "d235d7d2-9b7c-44a8-b81c-7174718cc3c8",
   "metadata": {},
   "outputs": [
    {
     "data": {
      "text/plain": [
       "8"
      ]
     },
     "execution_count": 39,
     "metadata": {},
     "output_type": "execute_result"
    }
   ],
   "source": [
    "li.get(8)"
   ]
  },
  {
   "cell_type": "code",
   "execution_count": 40,
   "id": "07c82e1e-18a1-4041-acef-9d5cc91e196d",
   "metadata": {},
   "outputs": [
    {
     "ename": "IndexError",
     "evalue": "索引越界",
     "output_type": "error",
     "traceback": [
      "\u001b[1;31m---------------------------------------------------------------------------\u001b[0m",
      "\u001b[1;31mIndexError\u001b[0m                                Traceback (most recent call last)",
      "Cell \u001b[1;32mIn[40], line 1\u001b[0m\n\u001b[1;32m----> 1\u001b[0m li\u001b[38;5;241m.\u001b[39mget(\u001b[38;5;241m11\u001b[39m)\n",
      "Cell \u001b[1;32mIn[32], line 23\u001b[0m, in \u001b[0;36mMyList.get\u001b[1;34m(self, index)\u001b[0m\n\u001b[0;32m     21\u001b[0m \u001b[38;5;66;03m# 索引如果越界，则抛出异常，下同\u001b[39;00m\n\u001b[0;32m     22\u001b[0m \u001b[38;5;28;01mif\u001b[39;00m index \u001b[38;5;241m<\u001b[39m \u001b[38;5;241m0\u001b[39m \u001b[38;5;129;01mor\u001b[39;00m index \u001b[38;5;241m>\u001b[39m\u001b[38;5;241m=\u001b[39m \u001b[38;5;28mself\u001b[39m\u001b[38;5;241m.\u001b[39m_size:\n\u001b[1;32m---> 23\u001b[0m     \u001b[38;5;28;01mraise\u001b[39;00m \u001b[38;5;167;01mIndexError\u001b[39;00m(\u001b[38;5;124m\"\u001b[39m\u001b[38;5;124m索引越界\u001b[39m\u001b[38;5;124m\"\u001b[39m)\n\u001b[0;32m     24\u001b[0m \u001b[38;5;28;01mreturn\u001b[39;00m \u001b[38;5;28mself\u001b[39m\u001b[38;5;241m.\u001b[39m_arr[index]\n",
      "\u001b[1;31mIndexError\u001b[0m: 索引越界"
     ]
    }
   ],
   "source": [
    "li.get(11)"
   ]
  },
  {
   "cell_type": "code",
   "execution_count": 41,
   "id": "9170b30d-3b16-4032-8ee8-8218824c2711",
   "metadata": {},
   "outputs": [
    {
     "data": {
      "text/plain": [
       "100"
      ]
     },
     "execution_count": 41,
     "metadata": {},
     "output_type": "execute_result"
    }
   ],
   "source": [
    "li.get(10)"
   ]
  },
  {
   "cell_type": "code",
   "execution_count": 42,
   "id": "ee174f33-33fd-4efc-9b69-54bb6faff259",
   "metadata": {},
   "outputs": [],
   "source": [
    "li.insert(55,6)"
   ]
  },
  {
   "cell_type": "code",
   "execution_count": 43,
   "id": "562cbbe0-f565-4e7a-b435-d30b6aa681f9",
   "metadata": {},
   "outputs": [
    {
     "data": {
      "text/plain": [
       "55"
      ]
     },
     "execution_count": 43,
     "metadata": {},
     "output_type": "execute_result"
    }
   ],
   "source": [
    "li.get(6)"
   ]
  },
  {
   "cell_type": "code",
   "execution_count": 44,
   "id": "1ec910dd-5433-44c6-9068-e83b90cfffc8",
   "metadata": {},
   "outputs": [
    {
     "data": {
      "text/plain": [
       "5"
      ]
     },
     "execution_count": 44,
     "metadata": {},
     "output_type": "execute_result"
    }
   ],
   "source": [
    "li.remove(5)"
   ]
  },
  {
   "cell_type": "code",
   "execution_count": 45,
   "id": "1df345b9-6bf8-48ac-a53b-1cd93e673df4",
   "metadata": {},
   "outputs": [
    {
     "data": {
      "text/plain": [
       "11"
      ]
     },
     "execution_count": 45,
     "metadata": {},
     "output_type": "execute_result"
    }
   ],
   "source": [
    "li.size()"
   ]
  },
  {
   "cell_type": "code",
   "execution_count": 46,
   "id": "6ea6927d-fc49-4db0-b502-d85ac8408c14",
   "metadata": {},
   "outputs": [
    {
     "data": {
      "text/plain": [
       "2"
      ]
     },
     "execution_count": 46,
     "metadata": {},
     "output_type": "execute_result"
    }
   ],
   "source": [
    "li.remove(2)"
   ]
  },
  {
   "cell_type": "code",
   "execution_count": 47,
   "id": "3c86e371-6f6b-421a-9d18-b1a7c560b6f8",
   "metadata": {},
   "outputs": [
    {
     "data": {
      "text/plain": [
       "10"
      ]
     },
     "execution_count": 47,
     "metadata": {},
     "output_type": "execute_result"
    }
   ],
   "source": [
    "li.size()"
   ]
  },
  {
   "cell_type": "code",
   "execution_count": 48,
   "id": "55eb0309-c436-4267-9041-34aa1bc068eb",
   "metadata": {},
   "outputs": [
    {
     "data": {
      "text/plain": [
       "3"
      ]
     },
     "execution_count": 48,
     "metadata": {},
     "output_type": "execute_result"
    }
   ],
   "source": [
    "li.get(2)"
   ]
  },
  {
   "cell_type": "code",
   "execution_count": null,
   "id": "2146f421-1c40-4e99-ad75-6ab4467e3ce8",
   "metadata": {},
   "outputs": [],
   "source": []
  }
 ],
 "metadata": {
  "kernelspec": {
   "display_name": "Python 3 (ipykernel)",
   "language": "python",
   "name": "python3"
  },
  "language_info": {
   "codemirror_mode": {
    "name": "ipython",
    "version": 3
   },
   "file_extension": ".py",
   "mimetype": "text/x-python",
   "name": "python",
   "nbconvert_exporter": "python",
   "pygments_lexer": "ipython3",
   "version": "3.11.7"
  }
 },
 "nbformat": 4,
 "nbformat_minor": 5
}
