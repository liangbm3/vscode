{
 "cells": [
  {
   "cell_type": "markdown",
   "id": "3388cbc6-9349-4cf9-b4b2-0499fb542f82",
   "metadata": {},
   "source": [
    "梁倍铭22309080"
   ]
  },
  {
   "cell_type": "markdown",
   "id": "a8b5a4de-48ec-4fd9-8f9f-2158a397520e",
   "metadata": {},
   "source": [
    "创建列表"
   ]
  },
  {
   "cell_type": "code",
   "execution_count": 12,
   "id": "455f3229-c12e-48c5-8836-b0e94bf72e2e",
   "metadata": {},
   "outputs": [],
   "source": [
    "L1=[11,22,33]"
   ]
  },
  {
   "cell_type": "markdown",
   "id": "bbe55c23-1a4a-4eef-92d7-127464a5e90c",
   "metadata": {
    "scrolled": true
   },
   "source": [
    "添加元素"
   ]
  },
  {
   "cell_type": "code",
   "execution_count": 13,
   "id": "2890416c-90df-4b53-9593-6492909228ea",
   "metadata": {},
   "outputs": [],
   "source": [
    "L1.extend([44,55])"
   ]
  },
  {
   "cell_type": "markdown",
   "id": "20222f3d-ee9a-40c8-b69e-c607d9433ea4",
   "metadata": {},
   "source": [
    "打印元素"
   ]
  },
  {
   "cell_type": "code",
   "execution_count": 14,
   "id": "9743af61-f41f-4c75-8d33-10b53873f2f1",
   "metadata": {},
   "outputs": [
    {
     "name": "stdout",
     "output_type": "stream",
     "text": [
      "[11, 22, 33, 44, 55]\n"
     ]
    }
   ],
   "source": [
    "print(L1)"
   ]
  },
  {
   "cell_type": "markdown",
   "id": "3bc1ad62-14db-4d00-b1ab-cffd86771943",
   "metadata": {},
   "source": [
    "删除元素"
   ]
  },
  {
   "cell_type": "code",
   "execution_count": 15,
   "id": "cb20442f-3e98-4792-bd1d-db16b42ccd60",
   "metadata": {},
   "outputs": [],
   "source": [
    "L1.remove(22)\n",
    "index=L1.index(11)\n",
    "L1[index]=22"
   ]
  },
  {
   "cell_type": "code",
   "execution_count": 16,
   "id": "38a4974b-3bd6-4135-b90e-71f030bafa03",
   "metadata": {},
   "outputs": [
    {
     "name": "stdout",
     "output_type": "stream",
     "text": [
      "[22, 33, 44, 55]\n"
     ]
    }
   ],
   "source": [
    "print(L1)"
   ]
  },
  {
   "cell_type": "markdown",
   "id": "36b8c6c3-1ea8-4e8d-b432-ff0f6acdf144",
   "metadata": {},
   "source": [
    "索引元素"
   ]
  },
  {
   "cell_type": "code",
   "execution_count": 17,
   "id": "d7e0672a-4cbf-42d5-96b8-cf69859f38d1",
   "metadata": {},
   "outputs": [
    {
     "name": "stdout",
     "output_type": "stream",
     "text": [
      "[33, 44, 55]\n"
     ]
    }
   ],
   "source": [
    "L2=L1[1:4]\n",
    "print(L2)"
   ]
  },
  {
   "cell_type": "code",
   "execution_count": 18,
   "id": "55c3375e-85b5-47a1-a803-638722e71cd2",
   "metadata": {},
   "outputs": [
    {
     "name": "stdout",
     "output_type": "stream",
     "text": [
      "1\n"
     ]
    }
   ],
   "source": [
    "print(L1.index(33))"
   ]
  },
  {
   "cell_type": "markdown",
   "id": "fcc682c3-5cee-4e29-85a8-164719403c78",
   "metadata": {},
   "source": [
    "翻转元素"
   ]
  },
  {
   "cell_type": "code",
   "execution_count": 19,
   "id": "cab035aa-4e22-41f3-bf37-622cde12f0d1",
   "metadata": {},
   "outputs": [
    {
     "name": "stdout",
     "output_type": "stream",
     "text": [
      "[55, 44, 33]\n"
     ]
    }
   ],
   "source": [
    "L2.reverse()\n",
    "print(L2)"
   ]
  },
  {
   "cell_type": "code",
   "execution_count": 20,
   "id": "85bcc15c-d962-4b03-8c7d-c3646c39a264",
   "metadata": {},
   "outputs": [
    {
     "name": "stdout",
     "output_type": "stream",
     "text": [
      "55\n"
     ]
    }
   ],
   "source": [
    "print(max(L1))"
   ]
  },
  {
   "cell_type": "markdown",
   "id": "c58f8f60-a8d2-4581-bdd0-85adff58cd40",
   "metadata": {
    "slideshow": {
     "slide_type": "notes"
    }
   },
   "source": [
    "最小值"
   ]
  },
  {
   "cell_type": "code",
   "execution_count": 21,
   "id": "2d70609c-456e-4349-a86a-b4f897649865",
   "metadata": {},
   "outputs": [
    {
     "name": "stdout",
     "output_type": "stream",
     "text": [
      "33\n"
     ]
    }
   ],
   "source": [
    "print(min(L2))"
   ]
  },
  {
   "cell_type": "markdown",
   "id": "76a022ef-5758-4811-9383-7640dbe4766a",
   "metadata": {},
   "source": [
    "插入元素"
   ]
  },
  {
   "cell_type": "code",
   "execution_count": 22,
   "id": "0326dd46-b959-48fd-bdf8-aedc170fd8a2",
   "metadata": {},
   "outputs": [
    {
     "name": "stdout",
     "output_type": "stream",
     "text": [
      "[22, 33, 44, 22, 55]\n"
     ]
    }
   ],
   "source": [
    "L1.insert(3,22)\n",
    "print(L1)"
   ]
  },
  {
   "cell_type": "markdown",
   "id": "a52b93f8-d5a0-4b32-aa83-bab00c461bfb",
   "metadata": {},
   "source": [
    "元素排序"
   ]
  },
  {
   "cell_type": "code",
   "execution_count": 23,
   "id": "a9f6ab37-95bf-48a6-ad7f-243de77dcff5",
   "metadata": {},
   "outputs": [
    {
     "name": "stdout",
     "output_type": "stream",
     "text": [
      "[22, 22, 33, 44, 55]\n"
     ]
    }
   ],
   "source": [
    "L1.sort()\n",
    "print(L1)"
   ]
  },
  {
   "cell_type": "markdown",
   "id": "2faf67e7-f499-40ba-a073-2b6695404efb",
   "metadata": {},
   "source": [
    "遍历元素加一"
   ]
  },
  {
   "cell_type": "code",
   "execution_count": 24,
   "id": "14582d7a-e18b-48d3-b496-8e03483a9386",
   "metadata": {},
   "outputs": [
    {
     "name": "stdout",
     "output_type": "stream",
     "text": [
      "[23, 23, 34, 45, 56]\n"
     ]
    }
   ],
   "source": [
    "for i in range(len(L1)):\n",
    "    L1[i]+=1\n",
    "print(L1)"
   ]
  }
 ],
 "metadata": {
  "kernelspec": {
   "display_name": "Python 3 (ipykernel)",
   "language": "python",
   "name": "python3"
  },
  "language_info": {
   "codemirror_mode": {
    "name": "ipython",
    "version": 3
   },
   "file_extension": ".py",
   "mimetype": "text/x-python",
   "name": "python",
   "nbconvert_exporter": "python",
   "pygments_lexer": "ipython3",
   "version": "3.11.7"
  }
 },
 "nbformat": 4,
 "nbformat_minor": 5
}
